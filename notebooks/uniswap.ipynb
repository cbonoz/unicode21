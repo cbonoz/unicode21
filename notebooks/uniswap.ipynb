{
 "cells": [
  {
   "cell_type": "code",
   "execution_count": 10,
   "id": "b306a24f-9d4e-4014-bad8-70a5a5cac9a9",
   "metadata": {},
   "outputs": [],
   "source": [
    "import data\n",
    "from collections import Counter"
   ]
  },
  {
   "cell_type": "code",
   "execution_count": 8,
   "id": "e224d767-33ba-4b8e-acb8-725528da123f",
   "metadata": {},
   "outputs": [
    {
     "name": "stdout",
     "output_type": "stream",
     "text": [
      "1000\n"
     ]
    },
    {
     "data": {
      "text/plain": [
       "{'id': '0x3793df49dc16200deeafb092696c0816b3c8cf23',\n",
       " 'token0': {'id': '0x3aa228eed65666be5e55c392002d24d120d9ce6f',\n",
       "  'name': 'TechleadToken.org'},\n",
       " 'token1': {'id': '0xa0b86991c6218b36c1d19d4a2e9eb0ce3606eb48',\n",
       "  'name': 'USD Coin'}}"
      ]
     },
     "execution_count": 8,
     "metadata": {},
     "output_type": "execute_result"
    }
   ],
   "source": [
    "pools = data.POOLS['data']['pools']\n",
    "print(len(pools))\n",
    "pools[0]"
   ]
  },
  {
   "cell_type": "code",
   "execution_count": 14,
   "id": "5117b719-4de7-4247-908c-b753a73381c4",
   "metadata": {},
   "outputs": [],
   "source": [
    "cnt = Counter([f\"{x['token0']['name']}/{x['token1']['name']}\" for x  in pools])\n"
   ]
  },
  {
   "cell_type": "code",
   "execution_count": 16,
   "id": "2fd439a8-e714-49e0-86cc-b01d6591c4c0",
   "metadata": {},
   "outputs": [
    {
     "data": {
      "text/plain": [
       "[('Dogelon/Wrapped Ether', 2),\n",
       " ('JPY Coin/USD Coin', 2),\n",
       " ('Wrapped BTC/Dai Stablecoin', 2),\n",
       " ('PHI/Wrapped Ether', 2),\n",
       " ('ChainLink Token/Wrapped Ether', 2),\n",
       " ('Fantom Token/Wrapped Ether', 2),\n",
       " ('Wild Credit/Wrapped Ether', 2),\n",
       " ('Wrapped Ether/SuperFarm', 2),\n",
       " ('BullionFX/Tether USD', 2),\n",
       " ('Burn/Wrapped Ether', 2),\n",
       " ('USDP Stablecoin/Tether USD', 2),\n",
       " ('Wrapped Ether/Starbase', 2),\n",
       " ('NuCypher/Wrapped Ether', 2),\n",
       " ('DAOSquare Governance Token/Tether USD', 2),\n",
       " ('Wrapped ONUS/Wrapped Ether', 2),\n",
       " ('Pinknode/Wrapped Ether', 2),\n",
       " ('BrickblockToken/Wrapped Ether', 2),\n",
       " ('Wrapped BTC/Wrapped Ether', 2),\n",
       " ('Wrapped Ether/Cream ETH 2', 2),\n",
       " ('Aave Token/Wrapped Ether', 2),\n",
       " ('DeGate Token/Wrapped Ether', 2),\n",
       " ('Uniswap/Aave Token', 2),\n",
       " ('Wrapped Ether/Injective Token', 2),\n",
       " ('DataElf/Wrapped Ether', 2),\n",
       " ('Sekuritance/Wrapped Ether', 2),\n",
       " ('CBK/USD Coin', 2),\n",
       " ('Nokon/Wrapped Ether', 2),\n",
       " ('FARM Reward Token/Wrapped Ether', 2),\n",
       " ('Wrapped Ether/Amp', 2),\n",
       " ('Dai Stablecoin/LoopringCoin V2', 2),\n",
       " ('Pendle/Wrapped Ether', 2),\n",
       " ('Lopcoin/Wrapped Ether', 2),\n",
       " ('Wrapped BTC/Tether USD', 2),\n",
       " ('iEx.ec Network Token/Wrapped Ether', 2),\n",
       " ('SAND/Wrapped Ether', 2),\n",
       " ('Axie Infinity Shard/Smooth Love Potion', 2),\n",
       " ('BAYC #7286/Wrapped Ether', 2),\n",
       " ('LUSD Stablecoin/Tether USD', 2),\n",
       " ('Adventure Gold/Wrapped Ether', 2),\n",
       " ('TON/Wrapped Ether', 2),\n",
       " ('UnFederalReserveToken/Wrapped Ether', 2),\n",
       " ('CFX Quantum/Wrapped Ether', 2),\n",
       " ('TechleadToken.org/USD Coin', 1),\n",
       " ('ENS India/ME Pack/Wrapped Ether', 1),\n",
       " ('Convex Token/Badger Vested Escrow Convex Token', 1),\n",
       " ('Wrapped Ether/Mara Kush', 1),\n",
       " ('The Foundation Token/USD Coin', 1),\n",
       " ('Empty Set Share/Wrapped Ether', 1),\n",
       " ('21Fi/USD Coin', 1),\n",
       " ('Capital/Tether USD', 1)]"
      ]
     },
     "execution_count": 16,
     "metadata": {},
     "output_type": "execute_result"
    }
   ],
   "source": [
    "cnt.most_common(50)"
   ]
  },
  {
   "cell_type": "code",
   "execution_count": null,
   "id": "145694cd-8fe8-443c-9ee4-7be878fbec2d",
   "metadata": {},
   "outputs": [],
   "source": []
  }
 ],
 "metadata": {
  "kernelspec": {
   "display_name": "Python 3",
   "language": "python",
   "name": "python3"
  },
  "language_info": {
   "codemirror_mode": {
    "name": "ipython",
    "version": 3
   },
   "file_extension": ".py",
   "mimetype": "text/x-python",
   "name": "python",
   "nbconvert_exporter": "python",
   "pygments_lexer": "ipython3",
   "version": "3.7.11"
  }
 },
 "nbformat": 4,
 "nbformat_minor": 5
}
